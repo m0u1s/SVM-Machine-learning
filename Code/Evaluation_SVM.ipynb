{
 "cells": [
  {
   "cell_type": "markdown",
   "metadata": {},
   "source": [
    "### CODING"
   ]
  },
  {
   "cell_type": "code",
   "execution_count": 2,
   "metadata": {},
   "outputs": [],
   "source": [
    "#tensorflow and tf.keras\n",
    "import tensorflow as tf \n",
    "\n",
    "#Library \n",
    "import numpy as np \n",
    "import matplotlib.pyplot as plt \n",
    "\n",
    "from sklearn import svm\n",
    "from sklearn.linear_model import LogisticRegression,Perceptron\n",
    "from sklearn.neural_network import MLPClassifier\n",
    "from sklearn.ensemble import RandomForestClassifier\n",
    "\n",
    "from sklearn.metrics import mean_squared_error\n",
    "\n",
    "import time"
   ]
  },
  {
   "cell_type": "code",
   "execution_count": 3,
   "metadata": {},
   "outputs": [],
   "source": [
    "fashion_mnist = tf.keras.datasets.fashion_mnist\n",
    "\n",
    "(X_train, y_train), (X_test, y_test) = fashion_mnist.load_data()\n",
    "\n",
    "class_names = ['T-shirt/top', 'Trouser', 'Pullover', 'Dress', 'Coat',\n",
    "               'Sandal', 'Shirt', 'Sneaker', 'Bag', 'Ankle boot']\n",
    "\n",
    "X_train, X_test = X_train / 255.0, X_test / 255.0 "
   ]
  },
  {
   "cell_type": "code",
   "execution_count": 4,
   "metadata": {},
   "outputs": [
    {
     "name": "stdout",
     "output_type": "stream",
     "text": [
      "(28, 28)\n",
      "(784,)\n"
     ]
    }
   ],
   "source": [
    "print(X_train[0].shape)\n",
    "X_train = X_train.reshape(X_train.shape[0], -1)\n",
    "X_test = X_test.reshape(X_test.shape[0], -1)\n",
    "print(X_train[0].shape)"
   ]
  },
  {
   "cell_type": "markdown",
   "metadata": {},
   "source": [
    "- The SVM which has the smallest error on Validation dataset has C=0.1. \n",
    "- Now we evaluate the SVM and compare it to other models."
   ]
  },
  {
   "cell_type": "markdown",
   "metadata": {},
   "source": [
    "### Compare with other model\n",
    "1. Logistic Regression \n",
    "2. Neural Network\n",
    "3. RandomForest \n",
    "4. Perceptron\n",
    "5. SVM "
   ]
  },
  {
   "cell_type": "code",
   "execution_count": 5,
   "metadata": {},
   "outputs": [],
   "source": [
    "#Support library\n",
    "from sklearn.metrics import accuracy_score, classification_report"
   ]
  },
  {
   "cell_type": "markdown",
   "metadata": {},
   "source": [
    "#### 1. Logistic Regression "
   ]
  },
  {
   "cell_type": "code",
   "execution_count": 48,
   "metadata": {},
   "outputs": [
    {
     "name": "stderr",
     "output_type": "stream",
     "text": [
      "c:\\Users\\Mo\\AppData\\Local\\Programs\\Python\\Python311\\Lib\\site-packages\\sklearn\\linear_model\\_logistic.py:460: ConvergenceWarning: lbfgs failed to converge (status=1):\n",
      "STOP: TOTAL NO. of ITERATIONS REACHED LIMIT.\n",
      "\n",
      "Increase the number of iterations (max_iter) or scale the data as shown in:\n",
      "    https://scikit-learn.org/stable/modules/preprocessing.html\n",
      "Please also refer to the documentation for alternative solver options:\n",
      "    https://scikit-learn.org/stable/modules/linear_model.html#logistic-regression\n",
      "  n_iter_i = _check_optimize_result(\n"
     ]
    },
    {
     "name": "stdout",
     "output_type": "stream",
     "text": [
      "Training error: 1.7360666666666666\n",
      "Validation error: 1.9616\n",
      "Train Accuracy score: 0.86625\n",
      "Test Accuracy score: 0.8439\n",
      "              precision    recall  f1-score   support\n",
      "\n",
      "           0       0.81      0.81      0.81      1000\n",
      "           1       0.97      0.96      0.97      1000\n",
      "           2       0.73      0.73      0.73      1000\n",
      "           3       0.83      0.87      0.85      1000\n",
      "           4       0.73      0.76      0.74      1000\n",
      "           5       0.94      0.93      0.93      1000\n",
      "           6       0.62      0.57      0.59      1000\n",
      "           7       0.90      0.94      0.92      1000\n",
      "           8       0.94      0.94      0.94      1000\n",
      "           9       0.95      0.94      0.94      1000\n",
      "\n",
      "    accuracy                           0.84     10000\n",
      "   macro avg       0.84      0.84      0.84     10000\n",
      "weighted avg       0.84      0.84      0.84     10000\n",
      "\n"
     ]
    }
   ],
   "source": [
    "from sklearn.linear_model import LogisticRegression\n",
    "model = LogisticRegression()\n",
    "model.fit(X_train, y_train)\n",
    "\n",
    "train_preds = model.predict(X_train)\n",
    "val_preds = model.predict(X_test)\n",
    "\n",
    "train_error = mean_squared_error(y_train, train_preds)\n",
    "val_error = mean_squared_error(y_test, val_preds)\n",
    "\n",
    "print(f'Training error: {train_error}')\n",
    "print(f'Validation error: {val_error}')\n",
    "\n",
    "train_accuracy = accuracy_score(y_train, train_preds)\n",
    "test_accuracy = accuracy_score(y_test, val_preds)\n",
    "\n",
    "print(\"Train Accuracy score: {}\".format(train_accuracy))\n",
    "print(\"Test Accuracy score: {}\".format(test_accuracy))\n",
    "print(classification_report(y_test, val_preds))"
   ]
  },
  {
   "cell_type": "markdown",
   "metadata": {},
   "source": [
    "#### 2. Neural Network "
   ]
  },
  {
   "cell_type": "code",
   "execution_count": 53,
   "metadata": {},
   "outputs": [
    {
     "name": "stderr",
     "output_type": "stream",
     "text": [
      "c:\\Users\\Mo\\AppData\\Local\\Programs\\Python\\Python311\\Lib\\site-packages\\sklearn\\neural_network\\_multilayer_perceptron.py:691: ConvergenceWarning: Stochastic Optimizer: Maximum iterations (100) reached and the optimization hasn't converged yet.\n",
      "  warnings.warn(\n"
     ]
    },
    {
     "name": "stdout",
     "output_type": "stream",
     "text": [
      "Training error: 0.3310166666666667\n",
      "Validation error: 1.5678\n",
      "Train Accuracy score: 0.9739666666666666\n",
      "Test Accuracy score: 0.8846\n",
      "              precision    recall  f1-score   support\n",
      "\n",
      "           0       0.82      0.85      0.83      1000\n",
      "           1       0.98      0.98      0.98      1000\n",
      "           2       0.75      0.84      0.79      1000\n",
      "           3       0.89      0.89      0.89      1000\n",
      "           4       0.79      0.82      0.81      1000\n",
      "           5       0.97      0.95      0.96      1000\n",
      "           6       0.76      0.62      0.69      1000\n",
      "           7       0.95      0.97      0.96      1000\n",
      "           8       0.97      0.97      0.97      1000\n",
      "           9       0.96      0.96      0.96      1000\n",
      "\n",
      "    accuracy                           0.88     10000\n",
      "   macro avg       0.88      0.88      0.88     10000\n",
      "weighted avg       0.88      0.88      0.88     10000\n",
      "\n"
     ]
    }
   ],
   "source": [
    "model = MLPClassifier(hidden_layer_sizes=(100,), max_iter=100)\n",
    "model.fit(X_train, y_train)\n",
    "\n",
    "train_preds = model.predict(X_train)\n",
    "val_preds = model.predict(X_test)\n",
    "\n",
    "train_error = mean_squared_error(y_train, train_preds)\n",
    "val_error = mean_squared_error(y_test, val_preds)\n",
    "\n",
    "print(f'Training error: {train_error}')\n",
    "print(f'Validation error: {val_error}')\n",
    "\n",
    "train_accuracy = accuracy_score(y_train, train_preds)\n",
    "test_accuracy = accuracy_score(y_test, val_preds)\n",
    "\n",
    "print(\"Train Accuracy score: {}\".format(train_accuracy))\n",
    "print(\"Test Accuracy score: {}\".format(test_accuracy))\n",
    "print(classification_report(y_test, val_preds))"
   ]
  },
  {
   "cell_type": "markdown",
   "metadata": {},
   "source": [
    "#### 3. RandomForest "
   ]
  },
  {
   "cell_type": "code",
   "execution_count": 6,
   "metadata": {},
   "outputs": [
    {
     "name": "stdout",
     "output_type": "stream",
     "text": [
      "Training error: 0.0\n",
      "Validation error: 1.665\n",
      "Train Accuracy score: 1.0\n",
      "Test Accuracy score: 0.8775\n",
      "              precision    recall  f1-score   support\n",
      "\n",
      "           0       0.81      0.86      0.84      1000\n",
      "           1       0.99      0.96      0.98      1000\n",
      "           2       0.76      0.80      0.78      1000\n",
      "           3       0.89      0.91      0.90      1000\n",
      "           4       0.77      0.82      0.79      1000\n",
      "           5       0.98      0.96      0.97      1000\n",
      "           6       0.72      0.59      0.65      1000\n",
      "           7       0.93      0.95      0.94      1000\n",
      "           8       0.96      0.97      0.97      1000\n",
      "           9       0.95      0.95      0.95      1000\n",
      "\n",
      "    accuracy                           0.88     10000\n",
      "   macro avg       0.88      0.88      0.88     10000\n",
      "weighted avg       0.88      0.88      0.88     10000\n",
      "\n"
     ]
    }
   ],
   "source": [
    "model = RandomForestClassifier(criterion='entropy', max_depth=70, n_estimators=100)\n",
    "model.fit(X_train, y_train)\n",
    "\n",
    "train_preds = model.predict(X_train)\n",
    "val_preds = model.predict(X_test)\n",
    "\n",
    "train_error = mean_squared_error(y_train, train_preds)\n",
    "val_error = mean_squared_error(y_test, val_preds)\n",
    "\n",
    "print(f'Training error: {train_error}')\n",
    "print(f'Validation error: {val_error}')\n",
    "\n",
    "train_accuracy = accuracy_score(y_train, train_preds)\n",
    "test_accuracy = accuracy_score(y_test, val_preds)\n",
    "\n",
    "print(\"Train Accuracy score: {}\".format(train_accuracy))\n",
    "print(\"Test Accuracy score: {}\".format(test_accuracy))\n",
    "print(classification_report(y_test, val_preds))"
   ]
  },
  {
   "cell_type": "markdown",
   "metadata": {},
   "source": [
    "#### 4. Perceptron "
   ]
  },
  {
   "cell_type": "code",
   "execution_count": 8,
   "metadata": {},
   "outputs": [
    {
     "name": "stdout",
     "output_type": "stream",
     "text": [
      "Training error: 2.3043833333333335\n",
      "Validation error: 2.5698\n",
      "Train Accuracy score: 0.8051166666666667\n",
      "Test Accuracy score: 0.7834\n",
      "              precision    recall  f1-score   support\n",
      "\n",
      "           0       0.81      0.68      0.74      1000\n",
      "           1       0.97      0.95      0.96      1000\n",
      "           2       0.80      0.51      0.62      1000\n",
      "           3       0.65      0.94      0.76      1000\n",
      "           4       0.82      0.35      0.49      1000\n",
      "           5       0.97      0.88      0.92      1000\n",
      "           6       0.43      0.69      0.53      1000\n",
      "           7       0.89      0.94      0.92      1000\n",
      "           8       0.90      0.93      0.91      1000\n",
      "           9       0.92      0.96      0.94      1000\n",
      "\n",
      "    accuracy                           0.78     10000\n",
      "   macro avg       0.82      0.78      0.78     10000\n",
      "weighted avg       0.82      0.78      0.78     10000\n",
      "\n"
     ]
    }
   ],
   "source": [
    "model= Perceptron()\n",
    "model.fit(X_train, y_train)\n",
    "\n",
    "train_preds = model.predict(X_train)\n",
    "val_preds = model.predict(X_test)\n",
    "\n",
    "train_error = mean_squared_error(y_train, train_preds)\n",
    "val_error = mean_squared_error(y_test, val_preds)\n",
    "\n",
    "print(f'Training error: {train_error}')\n",
    "print(f'Validation error: {val_error}')\n",
    "\n",
    "train_accuracy = accuracy_score(y_train, train_preds)\n",
    "test_accuracy = accuracy_score(y_test, val_preds)\n",
    "\n",
    "print(\"Train Accuracy score: {}\".format(train_accuracy))\n",
    "print(\"Test Accuracy score: {}\".format(test_accuracy))\n",
    "print(classification_report(y_test, val_preds))"
   ]
  },
  {
   "cell_type": "markdown",
   "metadata": {},
   "source": [
    "#### 5. SVM Linear Kernel  "
   ]
  },
  {
   "cell_type": "code",
   "execution_count": 4,
   "metadata": {},
   "outputs": [
    {
     "name": "stdout",
     "output_type": "stream",
     "text": [
      "Training error: 1.4967166666666667\n",
      "Validation error: 1.9247\n",
      "Train Accuracy score: 0.8888166666666667\n",
      "Test Accuracy score: 0.8561\n",
      "              precision    recall  f1-score   support\n",
      "\n",
      "           0       0.78      0.83      0.80      1000\n",
      "           1       0.98      0.96      0.97      1000\n",
      "           2       0.75      0.77      0.76      1000\n",
      "           3       0.85      0.87      0.86      1000\n",
      "           4       0.77      0.78      0.77      1000\n",
      "           5       0.95      0.94      0.94      1000\n",
      "           6       0.65      0.57      0.61      1000\n",
      "           7       0.92      0.94      0.93      1000\n",
      "           8       0.95      0.95      0.95      1000\n",
      "           9       0.96      0.95      0.95      1000\n",
      "\n",
      "    accuracy                           0.86     10000\n",
      "   macro avg       0.85      0.86      0.86     10000\n",
      "weighted avg       0.85      0.86      0.86     10000\n",
      "\n"
     ]
    }
   ],
   "source": [
    "model = svm.SVC(kernel='linear', C=0.1)\n",
    "model.fit(X_train, y_train)\n",
    "\n",
    "train_preds = model.predict(X_train)\n",
    "val_preds = model.predict(X_test)\n",
    "\n",
    "train_error = mean_squared_error(y_train, train_preds)\n",
    "val_error = mean_squared_error(y_test, val_preds)\n",
    "\n",
    "print(f'Training error: {train_error}')\n",
    "print(f'Validation error: {val_error}')\n",
    "\n",
    "train_accuracy = accuracy_score(y_train, train_preds)\n",
    "test_accuracy = accuracy_score(y_test, val_preds)\n",
    "\n",
    "print(\"Train Accuracy score: {}\".format(train_accuracy))\n",
    "print(\"Test Accuracy score: {}\".format(test_accuracy))\n",
    "print(classification_report(y_test, val_preds))"
   ]
  },
  {
   "cell_type": "markdown",
   "metadata": {},
   "source": [
    "#### 6. SVM RBF Kernel"
   ]
  },
  {
   "cell_type": "code",
   "execution_count": 7,
   "metadata": {},
   "outputs": [
    {
     "name": "stdout",
     "output_type": "stream",
     "text": [
      "Training error: 0.38533333333333336\n",
      "Validation error: 1.4015\n",
      "Train Accuracy score: 0.9707333333333333\n",
      "Test Accuracy score: 0.8999\n",
      "              precision    recall  f1-score   support\n",
      "\n",
      "           0       0.84      0.85      0.84      1000\n",
      "           1       0.99      0.97      0.98      1000\n",
      "           2       0.81      0.84      0.82      1000\n",
      "           3       0.90      0.91      0.91      1000\n",
      "           4       0.83      0.83      0.83      1000\n",
      "           5       0.97      0.97      0.97      1000\n",
      "           6       0.75      0.72      0.73      1000\n",
      "           7       0.95      0.96      0.96      1000\n",
      "           8       0.98      0.98      0.98      1000\n",
      "           9       0.97      0.96      0.97      1000\n",
      "\n",
      "    accuracy                           0.90     10000\n",
      "   macro avg       0.90      0.90      0.90     10000\n",
      "weighted avg       0.90      0.90      0.90     10000\n",
      "\n"
     ]
    }
   ],
   "source": [
    "model = svm.SVC(kernel='rbf', C=10, gamma= 0.01)\n",
    "model.fit(X_train, y_train)\n",
    "\n",
    "train_preds = model.predict(X_train)\n",
    "val_preds = model.predict(X_test)\n",
    "\n",
    "train_error = mean_squared_error(y_train, train_preds)\n",
    "val_error = mean_squared_error(y_test, val_preds)\n",
    "\n",
    "print(f'Training error: {train_error}')\n",
    "print(f'Validation error: {val_error}')\n",
    "\n",
    "train_accuracy = accuracy_score(y_train, train_preds)\n",
    "test_accuracy = accuracy_score(y_test, val_preds)\n",
    "\n",
    "print(\"Train Accuracy score: {}\".format(train_accuracy))\n",
    "print(\"Test Accuracy score: {}\".format(test_accuracy))\n",
    "print(classification_report(y_test, val_preds))"
   ]
  }
 ],
 "metadata": {
  "kernelspec": {
   "display_name": "Python 3",
   "language": "python",
   "name": "python3"
  },
  "language_info": {
   "codemirror_mode": {
    "name": "ipython",
    "version": 3
   },
   "file_extension": ".py",
   "mimetype": "text/x-python",
   "name": "python",
   "nbconvert_exporter": "python",
   "pygments_lexer": "ipython3",
   "version": "3.11.3"
  }
 },
 "nbformat": 4,
 "nbformat_minor": 2
}
