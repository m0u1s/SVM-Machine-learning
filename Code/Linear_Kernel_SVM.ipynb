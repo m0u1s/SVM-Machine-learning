{
 "cells": [
  {
   "cell_type": "markdown",
   "metadata": {},
   "source": [
    "### CODING"
   ]
  },
  {
   "cell_type": "code",
   "execution_count": 1,
   "metadata": {},
   "outputs": [
    {
     "name": "stdout",
     "output_type": "stream",
     "text": [
      "WARNING:tensorflow:From c:\\Users\\Mo\\AppData\\Local\\Programs\\Python\\Python311\\Lib\\site-packages\\keras\\src\\losses.py:2976: The name tf.losses.sparse_softmax_cross_entropy is deprecated. Please use tf.compat.v1.losses.sparse_softmax_cross_entropy instead.\n",
      "\n"
     ]
    }
   ],
   "source": [
    "#tensorflow and tf.keras\n",
    "import tensorflow as tf \n",
    "\n",
    "#Library \n",
    "import numpy as np \n",
    "import matplotlib.pyplot as plt \n",
    "\n",
    "from sklearn import svm\n",
    "from sklearn.linear_model import LogisticRegression\n",
    "from sklearn.neural_network import MLPClassifier\n",
    "\n",
    "from sklearn.metrics import accuracy_score\n",
    "from sklearn.metrics import mean_squared_error\n",
    "\n",
    "import time\n",
    "\n",
    "fashion_mnist = tf.keras.datasets.fashion_mnist\n",
    "\n",
    "(X_train, y_train), (X_test, y_test) = fashion_mnist.load_data()\n",
    "\n",
    "class_names = ['T-shirt/top', 'Trouser', 'Pullover', 'Dress', 'Coat',\n",
    "               'Sandal', 'Shirt', 'Sneaker', 'Bag', 'Ankle boot']\n",
    "\n",
    "X_train, X_test = X_train / 255.0, X_test / 255.0 "
   ]
  },
  {
   "cell_type": "code",
   "execution_count": 2,
   "metadata": {},
   "outputs": [
    {
     "name": "stdout",
     "output_type": "stream",
     "text": [
      "(28, 28)\n",
      "(784,)\n"
     ]
    }
   ],
   "source": [
    "print(X_train[0].shape)\n",
    "X_train = X_train.reshape(X_train.shape[0], -1)\n",
    "X_test = X_test.reshape(X_test.shape[0], -1)\n",
    "print(X_train[0].shape)"
   ]
  },
  {
   "cell_type": "code",
   "execution_count": 17,
   "metadata": {},
   "outputs": [
    {
     "name": "stdout",
     "output_type": "stream",
     "text": [
      "For C=0.1:\n",
      "Training error: 1.4967166666666667\n",
      "Validation error: 1.9247\n",
      "Training time: 199.95183658599854s\n",
      "----------------\n",
      "For C=1:\n",
      "Training error: 1.3110333333333333\n",
      "Validation error: 2.1206\n",
      "Training time: 272.2981026172638s\n",
      "----------------\n",
      "For C=10:\n",
      "Training error: 1.1960666666666666\n",
      "Validation error: 2.1991\n",
      "Training time: 697.199474811554s\n",
      "----------------\n",
      "For C=100:\n",
      "Training error: 1.1581833333333333\n",
      "Validation error: 2.2193\n",
      "Training time: 5997.492079257965s\n",
      "----------------\n"
     ]
    }
   ],
   "source": [
    "C_values = [0.1, 1, 10, 100]  # thay đổi giá trị này theo nhu cầu của bạn\n",
    "\n",
    "for C in C_values:\n",
    "    start_time = time.time()\n",
    "    clf = svm.SVC(kernel='linear', C=C)\n",
    "    clf.fit(X_train, y_train)\n",
    "    end_time = time.time()\n",
    "\n",
    "    train_preds = clf.predict(X_train)\n",
    "    val_preds = clf.predict(X_test)\n",
    "\n",
    "    train_error = mean_squared_error(y_train, train_preds)\n",
    "    val_error = mean_squared_error(y_test, val_preds)\n",
    "    training_time = end_time - start_time\n",
    "\n",
    "    print(f'For C={C}:')\n",
    "    print(f'Training error: {train_error}')\n",
    "    print(f'Validation error: {val_error}')\n",
    "    print(f'Training time: {training_time}s')\n",
    "    print('----------------')"
   ]
  },
  {
   "cell_type": "markdown",
   "metadata": {},
   "source": [
    "- The SVM which has the smallest error on Validation dataset has C=0.1. \n",
    "- Now we evaluate the SVM and compare it to other models."
   ]
  },
  {
   "cell_type": "markdown",
   "metadata": {},
   "source": [
    "### Compare with other model\n",
    "1. Logistic Regression \n",
    "2. Neural Network \n",
    "3. SVM "
   ]
  },
  {
   "cell_type": "code",
   "execution_count": 3,
   "metadata": {},
   "outputs": [],
   "source": [
    "#Support library\n",
    "from sklearn.metrics import accuracy_score, classification_report"
   ]
  },
  {
   "cell_type": "markdown",
   "metadata": {},
   "source": [
    "#### 1. Logistic Regression "
   ]
  },
  {
   "cell_type": "code",
   "execution_count": 48,
   "metadata": {},
   "outputs": [
    {
     "name": "stderr",
     "output_type": "stream",
     "text": [
      "c:\\Users\\Mo\\AppData\\Local\\Programs\\Python\\Python311\\Lib\\site-packages\\sklearn\\linear_model\\_logistic.py:460: ConvergenceWarning: lbfgs failed to converge (status=1):\n",
      "STOP: TOTAL NO. of ITERATIONS REACHED LIMIT.\n",
      "\n",
      "Increase the number of iterations (max_iter) or scale the data as shown in:\n",
      "    https://scikit-learn.org/stable/modules/preprocessing.html\n",
      "Please also refer to the documentation for alternative solver options:\n",
      "    https://scikit-learn.org/stable/modules/linear_model.html#logistic-regression\n",
      "  n_iter_i = _check_optimize_result(\n"
     ]
    },
    {
     "name": "stdout",
     "output_type": "stream",
     "text": [
      "Training error: 1.7360666666666666\n",
      "Validation error: 1.9616\n",
      "Train Accuracy score: 0.86625\n",
      "Test Accuracy score: 0.8439\n",
      "              precision    recall  f1-score   support\n",
      "\n",
      "           0       0.81      0.81      0.81      1000\n",
      "           1       0.97      0.96      0.97      1000\n",
      "           2       0.73      0.73      0.73      1000\n",
      "           3       0.83      0.87      0.85      1000\n",
      "           4       0.73      0.76      0.74      1000\n",
      "           5       0.94      0.93      0.93      1000\n",
      "           6       0.62      0.57      0.59      1000\n",
      "           7       0.90      0.94      0.92      1000\n",
      "           8       0.94      0.94      0.94      1000\n",
      "           9       0.95      0.94      0.94      1000\n",
      "\n",
      "    accuracy                           0.84     10000\n",
      "   macro avg       0.84      0.84      0.84     10000\n",
      "weighted avg       0.84      0.84      0.84     10000\n",
      "\n"
     ]
    }
   ],
   "source": [
    "from sklearn.linear_model import LogisticRegression\n",
    "model = LogisticRegression()\n",
    "model.fit(X_train, y_train)\n",
    "\n",
    "train_preds = model.predict(X_train)\n",
    "val_preds = model.predict(X_test)\n",
    "\n",
    "train_error = mean_squared_error(y_train, train_preds)\n",
    "val_error = mean_squared_error(y_test, val_preds)\n",
    "\n",
    "print(f'Training error: {train_error}')\n",
    "print(f'Validation error: {val_error}')\n",
    "\n",
    "train_accuracy = accuracy_score(y_train, train_preds)\n",
    "test_accuracy = accuracy_score(y_test, val_preds)\n",
    "\n",
    "print(\"Train Accuracy score: {}\".format(train_accuracy))\n",
    "print(\"Test Accuracy score: {}\".format(test_accuracy))\n",
    "print(classification_report(y_test, val_preds))"
   ]
  },
  {
   "cell_type": "markdown",
   "metadata": {},
   "source": [
    "#### 2. Neural Network "
   ]
  },
  {
   "cell_type": "code",
   "execution_count": 53,
   "metadata": {},
   "outputs": [
    {
     "name": "stderr",
     "output_type": "stream",
     "text": [
      "c:\\Users\\Mo\\AppData\\Local\\Programs\\Python\\Python311\\Lib\\site-packages\\sklearn\\neural_network\\_multilayer_perceptron.py:691: ConvergenceWarning: Stochastic Optimizer: Maximum iterations (100) reached and the optimization hasn't converged yet.\n",
      "  warnings.warn(\n"
     ]
    },
    {
     "name": "stdout",
     "output_type": "stream",
     "text": [
      "Training error: 0.3310166666666667\n",
      "Validation error: 1.5678\n",
      "Train Accuracy score: 0.9739666666666666\n",
      "Test Accuracy score: 0.8846\n",
      "              precision    recall  f1-score   support\n",
      "\n",
      "           0       0.82      0.85      0.83      1000\n",
      "           1       0.98      0.98      0.98      1000\n",
      "           2       0.75      0.84      0.79      1000\n",
      "           3       0.89      0.89      0.89      1000\n",
      "           4       0.79      0.82      0.81      1000\n",
      "           5       0.97      0.95      0.96      1000\n",
      "           6       0.76      0.62      0.69      1000\n",
      "           7       0.95      0.97      0.96      1000\n",
      "           8       0.97      0.97      0.97      1000\n",
      "           9       0.96      0.96      0.96      1000\n",
      "\n",
      "    accuracy                           0.88     10000\n",
      "   macro avg       0.88      0.88      0.88     10000\n",
      "weighted avg       0.88      0.88      0.88     10000\n",
      "\n"
     ]
    }
   ],
   "source": [
    "model = MLPClassifier(hidden_layer_sizes=(100,), max_iter=100)\n",
    "model.fit(X_train, y_train)\n",
    "\n",
    "train_preds = model.predict(X_train)\n",
    "val_preds = model.predict(X_test)\n",
    "\n",
    "train_error = mean_squared_error(y_train, train_preds)\n",
    "val_error = mean_squared_error(y_test, val_preds)\n",
    "\n",
    "print(f'Training error: {train_error}')\n",
    "print(f'Validation error: {val_error}')\n",
    "\n",
    "train_accuracy = accuracy_score(y_train, train_preds)\n",
    "test_accuracy = accuracy_score(y_test, val_preds)\n",
    "\n",
    "print(\"Train Accuracy score: {}\".format(train_accuracy))\n",
    "print(\"Test Accuracy score: {}\".format(test_accuracy))\n",
    "print(classification_report(y_test, val_preds))"
   ]
  },
  {
   "cell_type": "markdown",
   "metadata": {},
   "source": [
    "#### 3. SVM "
   ]
  },
  {
   "cell_type": "code",
   "execution_count": 4,
   "metadata": {},
   "outputs": [
    {
     "name": "stdout",
     "output_type": "stream",
     "text": [
      "Training error: 1.4967166666666667\n",
      "Validation error: 1.9247\n",
      "Train Accuracy score: 0.8888166666666667\n",
      "Test Accuracy score: 0.8561\n",
      "              precision    recall  f1-score   support\n",
      "\n",
      "           0       0.78      0.83      0.80      1000\n",
      "           1       0.98      0.96      0.97      1000\n",
      "           2       0.75      0.77      0.76      1000\n",
      "           3       0.85      0.87      0.86      1000\n",
      "           4       0.77      0.78      0.77      1000\n",
      "           5       0.95      0.94      0.94      1000\n",
      "           6       0.65      0.57      0.61      1000\n",
      "           7       0.92      0.94      0.93      1000\n",
      "           8       0.95      0.95      0.95      1000\n",
      "           9       0.96      0.95      0.95      1000\n",
      "\n",
      "    accuracy                           0.86     10000\n",
      "   macro avg       0.85      0.86      0.86     10000\n",
      "weighted avg       0.85      0.86      0.86     10000\n",
      "\n"
     ]
    }
   ],
   "source": [
    "model = svm.SVC(kernel='linear', C=0.1)\n",
    "model.fit(X_train, y_train)\n",
    "\n",
    "train_preds = model.predict(X_train)\n",
    "val_preds = model.predict(X_test)\n",
    "\n",
    "train_error = mean_squared_error(y_train, train_preds)\n",
    "val_error = mean_squared_error(y_test, val_preds)\n",
    "\n",
    "print(f'Training error: {train_error}')\n",
    "print(f'Validation error: {val_error}')\n",
    "\n",
    "train_accuracy = accuracy_score(y_train, train_preds)\n",
    "test_accuracy = accuracy_score(y_test, val_preds)\n",
    "\n",
    "print(\"Train Accuracy score: {}\".format(train_accuracy))\n",
    "print(\"Test Accuracy score: {}\".format(test_accuracy))\n",
    "print(classification_report(y_test, val_preds))"
   ]
  },
  {
   "cell_type": "markdown",
   "metadata": {},
   "source": [
    "### Research about C parameter in Support Vector Machine "
   ]
  },
  {
   "cell_type": "markdown",
   "metadata": {},
   "source": [
    "One of the most important parameters in the SVM is the C parameter, which plays a crucial role in determining the balance between achieving a `low training error` and `allowing for misclassifications`."
   ]
  },
  {
   "cell_type": "markdown",
   "metadata": {},
   "source": [
    "### Bình luận kết quả"
   ]
  }
 ],
 "metadata": {
  "kernelspec": {
   "display_name": "Python 3",
   "language": "python",
   "name": "python3"
  },
  "language_info": {
   "codemirror_mode": {
    "name": "ipython",
    "version": 3
   },
   "file_extension": ".py",
   "mimetype": "text/x-python",
   "name": "python",
   "nbconvert_exporter": "python",
   "pygments_lexer": "ipython3",
   "version": "3.11.3"
  }
 },
 "nbformat": 4,
 "nbformat_minor": 2
}
