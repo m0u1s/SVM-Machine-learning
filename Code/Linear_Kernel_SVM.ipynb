{
 "cells": [
  {
   "cell_type": "markdown",
   "metadata": {},
   "source": [
    "### CODING"
   ]
  },
  {
   "cell_type": "code",
   "execution_count": 15,
   "metadata": {},
   "outputs": [],
   "source": [
    "#tensorflow and tf.keras\n",
    "import tensorflow as tf \n",
    "\n",
    "#Library \n",
    "import numpy as np \n",
    "import matplotlib.pyplot as plt \n",
    "\n",
    "fashion_mnist = tf.keras.datasets.fashion_mnist\n",
    "\n",
    "(X_train, y_train), (X_test, y_test) = fashion_mnist.load_data()\n",
    "\n",
    "class_names = ['T-shirt/top', 'Trouser', 'Pullover', 'Dress', 'Coat',\n",
    "               'Sandal', 'Shirt', 'Sneaker', 'Bag', 'Ankle boot']\n",
    "\n",
    "X_train, X_test = X_train / 255.0, X_test / 255.0 "
   ]
  },
  {
   "cell_type": "code",
   "execution_count": 16,
   "metadata": {},
   "outputs": [
    {
     "name": "stdout",
     "output_type": "stream",
     "text": [
      "(28, 28)\n",
      "(784,)\n"
     ]
    }
   ],
   "source": [
    "print(X_train[0].shape)\n",
    "X_train = X_train.reshape(X_train.shape[0], -1)\n",
    "X_test = X_test.reshape(X_test.shape[0], -1)\n",
    "print(X_train[0].shape)"
   ]
  },
  {
   "cell_type": "code",
   "execution_count": 17,
   "metadata": {},
   "outputs": [
    {
     "name": "stdout",
     "output_type": "stream",
     "text": [
      "For C=0.1:\n",
      "Training error: 1.4967166666666667\n",
      "Validation error: 1.9247\n",
      "Training time: 199.95183658599854s\n",
      "----------------\n",
      "For C=1:\n",
      "Training error: 1.3110333333333333\n",
      "Validation error: 2.1206\n",
      "Training time: 272.2981026172638s\n",
      "----------------\n",
      "For C=10:\n",
      "Training error: 1.1960666666666666\n",
      "Validation error: 2.1991\n",
      "Training time: 697.199474811554s\n",
      "----------------\n",
      "For C=100:\n",
      "Training error: 1.1581833333333333\n",
      "Validation error: 2.2193\n",
      "Training time: 5997.492079257965s\n",
      "----------------\n"
     ]
    }
   ],
   "source": [
    "from sklearn import svm\n",
    "from sklearn.metrics import mean_squared_error\n",
    "\n",
    "import time\n",
    "\n",
    "C_values = [0.1, 1, 10, 100]  # thay đổi giá trị này theo nhu cầu của bạn\n",
    "\n",
    "for C in C_values:\n",
    "    start_time = time.time()\n",
    "    clf = svm.SVC(kernel='linear', C=C)\n",
    "    clf.fit(X_train, y_train)\n",
    "    end_time = time.time()\n",
    "\n",
    "    train_preds = clf.predict(X_train)\n",
    "    val_preds = clf.predict(X_test)\n",
    "\n",
    "    train_error = mean_squared_error(y_train, train_preds)\n",
    "    val_error = mean_squared_error(y_test, val_preds)\n",
    "    training_time = end_time - start_time\n",
    "\n",
    "    print(f'For C={C}:')\n",
    "    print(f'Training error: {train_error}')\n",
    "    print(f'Validation error: {val_error}')\n",
    "    print(f'Training time: {training_time}s')\n",
    "    print('----------------')"
   ]
  },
  {
   "cell_type": "markdown",
   "metadata": {},
   "source": [
    "### Research about C parameter in Support Vector Machine "
   ]
  },
  {
   "cell_type": "markdown",
   "metadata": {},
   "source": [
    "One of the most important parameters in the SVM is the C parameter, which plays a crucial role in determining the balance between achieving a `low training error` and `allowing for misclassifications`."
   ]
  },
  {
   "cell_type": "markdown",
   "metadata": {},
   "source": [
    "### Bình luận kết quả"
   ]
  }
 ],
 "metadata": {
  "kernelspec": {
   "display_name": "Python 3",
   "language": "python",
   "name": "python3"
  },
  "language_info": {
   "codemirror_mode": {
    "name": "ipython",
    "version": 3
   },
   "file_extension": ".py",
   "mimetype": "text/x-python",
   "name": "python",
   "nbconvert_exporter": "python",
   "pygments_lexer": "ipython3",
   "version": "3.11.3"
  }
 },
 "nbformat": 4,
 "nbformat_minor": 2
}
