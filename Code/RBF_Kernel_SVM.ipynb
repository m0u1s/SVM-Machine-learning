{
 "cells": [
  {
   "cell_type": "code",
   "execution_count": 1,
   "metadata": {},
   "outputs": [
    {
     "name": "stdout",
     "output_type": "stream",
     "text": [
      "WARNING:tensorflow:From c:\\Users\\Mo\\AppData\\Local\\Programs\\Python\\Python311\\Lib\\site-packages\\keras\\src\\losses.py:2976: The name tf.losses.sparse_softmax_cross_entropy is deprecated. Please use tf.compat.v1.losses.sparse_softmax_cross_entropy instead.\n",
      "\n"
     ]
    }
   ],
   "source": [
    "#tensorflow and tf.keras\n",
    "import tensorflow as tf \n",
    "\n",
    "#Library \n",
    "import numpy as np \n",
    "import matplotlib.pyplot as plt \n",
    "\n",
    "fashion_mnist = tf.keras.datasets.fashion_mnist\n",
    "\n",
    "(X_train, y_train), (X_test, y_test) = fashion_mnist.load_data()\n",
    "\n",
    "class_names = ['T-shirt/top', 'Trouser', 'Pullover', 'Dress', 'Coat',\n",
    "               'Sandal', 'Shirt', 'Sneaker', 'Bag', 'Ankle boot']\n",
    "\n",
    "X_train, X_test = X_train / 255.0, X_test / 255.0 "
   ]
  },
  {
   "cell_type": "code",
   "execution_count": 2,
   "metadata": {},
   "outputs": [
    {
     "name": "stdout",
     "output_type": "stream",
     "text": [
      "(28, 28)\n",
      "(784,)\n"
     ]
    }
   ],
   "source": [
    "print(X_train[0].shape)\n",
    "X_train = X_train.reshape(X_train.shape[0], -1)\n",
    "X_test = X_test.reshape(X_test.shape[0], -1)\n",
    "print(X_train[0].shape)"
   ]
  },
  {
   "cell_type": "code",
   "execution_count": 3,
   "metadata": {},
   "outputs": [
    {
     "name": "stdout",
     "output_type": "stream",
     "text": [
      "For C = 0.1, gamma = 0.01:\n",
      "Training error: 1.8525166666666666\n",
      "Validation error: 2.0696\n",
      "Training time: 478.47169828414917s\n",
      "For C = 0.1, gamma = 0.1:\n",
      "Training error: 4.059833333333334\n",
      "Validation error: 4.7611\n",
      "Training time: 1768.3098664283752s\n",
      "For C = 0.1, gamma = 1:\n",
      "Training error: 6.011733333333333\n",
      "Validation error: 28.4432\n",
      "Training time: 3385.318328142166s\n",
      "For C = 0.1, gamma = 10:\n",
      "Training error: 6.392533333333334\n",
      "Validation error: 28.4793\n",
      "Training time: 5580.514039754868s\n",
      "For C = 1, gamma = 0.01:\n",
      "Training error: 1.2015\n",
      "Validation error: 1.5644\n",
      "Training time: 430.9953360557556s\n",
      "For C = 1, gamma = 0.1:\n",
      "Training error: 0.13953333333333334\n",
      "Validation error: 2.2183\n",
      "Training time: 3444.54988861084s\n",
      "For C = 1, gamma = 1:\n",
      "Training error: 0.0\n",
      "Validation error: 23.3953\n",
      "Training time: 7402.36911034584s\n",
      "For C = 1, gamma = 10:\n",
      "Training error: 0.0\n",
      "Validation error: 28.4494\n",
      "Training time: 3948.1715817451477s\n",
      "For C = 10, gamma = 0.01:\n",
      "Training error: 0.38533333333333336\n",
      "Validation error: 1.4015\n",
      "Training time: 201.46131873130798s\n",
      "For C = 10, gamma = 0.1:\n",
      "Training error: 0.0\n",
      "Validation error: 2.1683\n",
      "Training time: 2078.547880411148s\n",
      "For C = 10, gamma = 1:\n",
      "Training error: 0.0\n",
      "Validation error: 22.4154\n",
      "Training time: 6973.731667518616s\n",
      "For C = 10, gamma = 10:\n",
      "Training error: 0.0\n",
      "Validation error: 28.4394\n",
      "Training time: 3634.078712940216s\n",
      "For C = 100, gamma = 0.01:\n",
      "Training error: 0.009233333333333333\n",
      "Validation error: 1.4833\n",
      "Training time: 211.2480490207672s\n",
      "For C = 100, gamma = 0.1:\n",
      "Training error: 0.0\n",
      "Validation error: 2.1683\n",
      "Training time: 2077.763484477997s\n",
      "For C = 100, gamma = 1:\n",
      "Training error: 0.0\n",
      "Validation error: 22.4154\n",
      "Training time: 7217.858976602554s\n",
      "For C = 100, gamma = 10:\n",
      "Training error: 0.0\n",
      "Validation error: 28.4394\n",
      "Training time: 3656.0268790721893s\n"
     ]
    }
   ],
   "source": [
    "from sklearn import svm\n",
    "from sklearn.metrics import mean_squared_error\n",
    "\n",
    "import time\n",
    "\n",
    "# Các giá trị C và gamma cần thử nghiệm\n",
    "C_values = [0.1, 1, 10, 100]\n",
    "gamma_values = [0.01, 0.1, 1, 10]\n",
    "\n",
    "for C in C_values:\n",
    "    for gamma in gamma_values:\n",
    "        start_time = time.time()\n",
    "        model = svm.SVC(kernel='rbf', C=C, gamma=gamma)\n",
    "\n",
    "        model.fit(X_train, y_train)\n",
    "        end_time = time.time()\n",
    "\n",
    "        train_preds = model.predict(X_train)\n",
    "        val_preds = model.predict(X_test)\n",
    "\n",
    "        train_error = mean_squared_error(y_train, train_preds)\n",
    "        val_error = mean_squared_error(y_test, val_preds)\n",
    "        training_time = end_time - start_time\n",
    "        \n",
    "        print(f\"For C = {C}, gamma = {gamma}:\")\n",
    "        print(f'Training error: {train_error}')\n",
    "        print(f'Validation error: {val_error}')\n",
    "        print(f'Training time: {training_time}s')"
   ]
  }
 ],
 "metadata": {
  "kernelspec": {
   "display_name": "Python 3",
   "language": "python",
   "name": "python3"
  },
  "language_info": {
   "codemirror_mode": {
    "name": "ipython",
    "version": 3
   },
   "file_extension": ".py",
   "mimetype": "text/x-python",
   "name": "python",
   "nbconvert_exporter": "python",
   "pygments_lexer": "ipython3",
   "version": "3.11.3"
  }
 },
 "nbformat": 4,
 "nbformat_minor": 2
}
